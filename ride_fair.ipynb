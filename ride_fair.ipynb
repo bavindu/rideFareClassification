{
  "nbformat": 4,
  "nbformat_minor": 0,
  "metadata": {
    "colab": {
      "name": "ride fair.ipynb",
      "provenance": [],
      "authorship_tag": "ABX9TyNCBh51QYVzt2VmUUpgPwBW",
      "include_colab_link": true
    },
    "kernelspec": {
      "name": "python3",
      "display_name": "Python 3"
    }
  },
  "cells": [
    {
      "cell_type": "markdown",
      "metadata": {
        "id": "view-in-github",
        "colab_type": "text"
      },
      "source": [
        "<a href=\"https://colab.research.google.com/github/bavindu/rideFareClassification/blob/master/ride_fair.ipynb\" target=\"_parent\"><img src=\"https://colab.research.google.com/assets/colab-badge.svg\" alt=\"Open In Colab\"/></a>"
      ]
    },
    {
      "cell_type": "code",
      "metadata": {
        "id": "hlR11kRvbSc3",
        "colab_type": "code",
        "colab": {}
      },
      "source": [
        "import numpy as np\n",
        "import pandas as pd\n",
        "import matplotlib.pyplot as plt\n",
        "\n",
        "from pathlib import Path\n",
        "from sklearn.impute import KNNImputer\n",
        "from sklearn.impute import SimpleImputer\n",
        "from sklearn.model_selection import train_test_split\n",
        "from sklearn.neighbors import DistanceMetric\n",
        "from sklearn.metrics import f1_score\n",
        "from sklearn.preprocessing import StandardScaler\n",
        "from sklearn.neighbors import KNeighborsClassifier\n",
        "from sklearn.ensemble import RandomForestClassifier\n",
        "from sklearn.impute import SimpleImputer\n",
        "from sklearn import metrics\n",
        "from sklearn.model_selection import RandomizedSearchCV\n",
        "from scipy.stats import uniform, truncnorm, randint\n",
        "from math import radians"
      ],
      "execution_count": null,
      "outputs": []
    },
    {
      "cell_type": "code",
      "metadata": {
        "id": "RUcuAxYvsjjz",
        "colab_type": "code",
        "colab": {}
      },
      "source": [
        "import xgboost as xgb\n",
        "from xgboost.sklearn import XGBClassifier\n",
        "from sklearn.model_selection import cross_validate   #Additional scklearn functions\n",
        "from sklearn.model_selection import GridSearchCV   #Perforing grid search\n",
        "\n",
        "import matplotlib.pylab as plot\n",
        "%matplotlib inline\n",
        "from matplotlib.pylab import rcParams\n",
        "rcParams['figure.figsize'] = 12, 4"
      ],
      "execution_count": null,
      "outputs": []
    },
    {
      "cell_type": "code",
      "metadata": {
        "id": "8RofSYoShMLW",
        "colab_type": "code",
        "colab": {}
      },
      "source": [
        "!pip install PyDrive\n",
        "from pydrive.auth import GoogleAuth\n",
        "from pydrive.drive import GoogleDrive\n",
        "from google.colab import auth\n",
        "from google.colab import files\n",
        "from oauth2client.client import GoogleCredentials"
      ],
      "execution_count": null,
      "outputs": []
    },
    {
      "cell_type": "markdown",
      "metadata": {
        "id": "fOUT8HmIipgf",
        "colab_type": "text"
      },
      "source": [
        "Authenticate and create the PyDrive client"
      ]
    },
    {
      "cell_type": "code",
      "metadata": {
        "id": "43LTrdfRiuJb",
        "colab_type": "code",
        "colab": {}
      },
      "source": [
        "auth.authenticate_user()\n",
        "gauth = GoogleAuth()\n",
        "gauth.credentials = GoogleCredentials.get_application_default()\n",
        "drive = GoogleDrive(gauth)"
      ],
      "execution_count": null,
      "outputs": []
    },
    {
      "cell_type": "markdown",
      "metadata": {
        "id": "Cj9y5Tjgi8Ha",
        "colab_type": "text"
      },
      "source": [
        "Get Files"
      ]
    },
    {
      "cell_type": "code",
      "metadata": {
        "id": "w0ew9bNoi-w7",
        "colab_type": "code",
        "colab": {}
      },
      "source": [
        "test = drive.CreateFile({'id':\"1rFfppUfFVqvi1mi7CpjWn7w9mNAi303R\"})   \n",
        "test.GetContentFile('test.csv') \n",
        "train = drive.CreateFile({'id':\"1bigFo-e_MOg6Fhng0yOnQZ0GGeShCMl-\"})   \n",
        "train.GetContentFile('train.csv') "
      ],
      "execution_count": null,
      "outputs": []
    },
    {
      "cell_type": "code",
      "metadata": {
        "id": "iDm87Nr3ko22",
        "colab_type": "code",
        "colab": {
          "base_uri": "https://localhost:8080/",
          "height": 50
        },
        "outputId": "a4a16f30-346a-427b-dbaf-3231a33b2d2f"
      },
      "source": [
        "trainData = pd.read_csv('train.csv',parse_dates=['pickup_time','drop_time'])\n",
        "df_test = pd.read_csv('test.csv',parse_dates=['pickup_time','drop_time'])\n",
        "print(\"train\",trainData.shape)\n",
        "print(\"test\",df_test.shape)"
      ],
      "execution_count": null,
      "outputs": [
        {
          "output_type": "stream",
          "text": [
            "train (17176, 14)\n",
            "test (8576, 13)\n"
          ],
          "name": "stdout"
        }
      ]
    },
    {
      "cell_type": "code",
      "metadata": {
        "id": "by96SDa1m21b",
        "colab_type": "code",
        "colab": {}
      },
      "source": [
        "#preprocessing\n",
        "simple_mean_imputer = SimpleImputer(strategy = 'mean')\n",
        "simple_frequency_imputer = SimpleImputer(strategy = 'most_frequent')\n",
        "\n",
        "#getNumerical columns\n",
        "numerical_columns = ['duration', 'meter_waiting',\n",
        "                   'meter_waiting_fare', 'meter_waiting_till_pickup', 'pick_lat', 'pick_lon', 'drop_lat', 'drop_lon',\n",
        "                   'fare']\n",
        "mostFrequenceColumn = ['additional_fare']"
      ],
      "execution_count": null,
      "outputs": []
    },
    {
      "cell_type": "code",
      "metadata": {
        "id": "_xwDv234nIuF",
        "colab_type": "code",
        "colab": {}
      },
      "source": [
        "trainData[numerical_columns] = simple_mean_imputer.fit_transform(trainData[numerical_columns])\n",
        "trainData[mostFrequenceColumn] = simple_frequency_imputer.fit_transform(trainData[mostFrequenceColumn])"
      ],
      "execution_count": null,
      "outputs": []
    },
    {
      "cell_type": "code",
      "metadata": {
        "id": "DDUm4hj7mpZ4",
        "colab_type": "code",
        "colab": {}
      },
      "source": [
        "trainData['dayofweek'] = trainData['drop_time'].dt.dayofweek\n",
        "# weekend or not\n",
        "trainData['weekend'] = trainData['dayofweek'].apply(lambda x: 1 if (x>3)  else 0)\n",
        "# pickup timestamp\n",
        "trainData = trainData.assign(pickup_hour=trainData.pickup_time.dt.hour,\n",
        "               pickup_day=trainData.pickup_time.dt.day,\n",
        "               pickup_month=trainData.pickup_time.dt.month,\n",
        "               pickup_year=trainData.pickup_time.dt.year)\n",
        "# drop timestamp\n",
        "trainData = trainData.assign(drop_hour=trainData.drop_time.dt.hour,\n",
        "               drop_day=trainData.drop_time.dt.day,\n",
        "               drop_month=trainData.drop_time.dt.month,\n",
        "               drop_year=trainData.drop_time.dt.year)"
      ],
      "execution_count": null,
      "outputs": []
    },
    {
      "cell_type": "code",
      "metadata": {
        "id": "fv5MjLqA_FNy",
        "colab_type": "code",
        "colab": {}
      },
      "source": [
        "# calculate distance from pickup to drop \n",
        "def haversine_vectorize(lon1, lat1, lon2, lat2):\n",
        " \n",
        "    lon1, lat1, lon2, lat2 = map(np.radians, [lon1, lat1, lon2, lat2])\n",
        " \n",
        "    newlon = lon2 - lon1\n",
        "    newlat = lat2 - lat1\n",
        " \n",
        "    haver_formula = np.sin(newlat/2.0)**2 + np.cos(lat1) * np.cos(lat2) * np.sin(newlon/2.0)**2\n",
        " \n",
        "    dist = 2 * np.arcsin(np.sqrt(haver_formula ))\n",
        "    km = 6367 * dist #6367 for distance in KM for miles use 3958\n",
        "    return km"
      ],
      "execution_count": null,
      "outputs": []
    },
    {
      "cell_type": "code",
      "metadata": {
        "id": "6sNxTamp_IoF",
        "colab_type": "code",
        "colab": {}
      },
      "source": [
        "trainData['haversine_dist'] = haversine_vectorize(trainData['pick_lon'],trainData['pick_lat'],trainData['drop_lon'],trainData['drop_lat'])"
      ],
      "execution_count": null,
      "outputs": []
    },
    {
      "cell_type": "code",
      "metadata": {
        "id": "Zhqh8CtVnQ52",
        "colab_type": "code",
        "colab": {}
      },
      "source": [
        "trainData[numerical_columns] = simple_mean_imputer.fit_transform(trainData[numerical_columns])\n",
        "trainData[mostFrequenceColumn] = simple_frequency_imputer.fit_transform(trainData[mostFrequenceColumn])\n",
        "trainData['total_waiting_time'] = trainData['meter_waiting'] + trainData['meter_waiting_till_pickup']\n",
        "trainData['mobile_time'] = trainData['duration'] -trainData['meter_waiting']"
      ],
      "execution_count": null,
      "outputs": []
    },
    {
      "cell_type": "code",
      "metadata": {
        "id": "4dd8U1d-nYMN",
        "colab_type": "code",
        "colab": {}
      },
      "source": [
        "#trainData['deference_of_pickupdrop'] = trainData['drop_time'] - trainData['pickup_time']\n",
        "#trainData['deference_of_pickupdrop'] = trainData['deference_of_pickupdrop'].dt.seconds\n",
        "#trainData['duration_defernence'] = trainData['duration'] - trainData['deference_of_pickupdrop']\n"
      ],
      "execution_count": null,
      "outputs": []
    },
    {
      "cell_type": "code",
      "metadata": {
        "id": "DGez9NNlnaVl",
        "colab_type": "code",
        "colab": {}
      },
      "source": [
        "considering_features = ['additional_fare', 'duration', 'meter_waiting','meter_waiting_fare', 'meter_waiting_till_pickup', \n",
        "                        'pick_lat', 'pick_lon', 'drop_lat', 'drop_lon', 'fare','dayofweek', 'pickup_day', 'pickup_hour', 'drop_day', \n",
        "                        'drop_hour','pickup_month','drop_month','haversine_dist','total_waiting_time','total_waiting_time']\n",
        "X = trainData[considering_features].values"
      ],
      "execution_count": null,
      "outputs": []
    },
    {
      "cell_type": "code",
      "metadata": {
        "id": "laCvInUX_a8N",
        "colab_type": "code",
        "colab": {}
      },
      "source": [
        "X = StandardScaler().fit(X).transform(X.astype(float))"
      ],
      "execution_count": null,
      "outputs": []
    },
    {
      "cell_type": "code",
      "metadata": {
        "id": "EjQddcSprDoR",
        "colab_type": "code",
        "colab": {}
      },
      "source": [
        "trainData['label'].replace(to_replace=['incorrect','correct'], value=[0,1],inplace=True)\n",
        "y = trainData['label']"
      ],
      "execution_count": null,
      "outputs": []
    },
    {
      "cell_type": "code",
      "metadata": {
        "id": "--yfwR-FAcKl",
        "colab_type": "code",
        "colab": {}
      },
      "source": [
        "RANDOM_SEED = 6  \n",
        "X_train, X_test, Y_train, Y_test = train_test_split(X, y, test_size=0.2,\n",
        "    shuffle=True,\n",
        "    stratify=y,\n",
        "    random_state=RANDOM_SEED) "
      ],
      "execution_count": null,
      "outputs": []
    },
    {
      "cell_type": "markdown",
      "metadata": {
        "id": "DGnto_4T-FJP",
        "colab_type": "text"
      },
      "source": [
        "Grid Search"
      ]
    },
    {
      "cell_type": "code",
      "metadata": {
        "id": "BfumOlYm-BOi",
        "colab_type": "code",
        "colab": {}
      },
      "source": [
        "params_RF_RS = {\n",
        "                  \"max_depth\": randint(3,8),\n",
        "                  'n_estimators': [50,100,200,300,400, 500],\n",
        "                  \"max_features\":['auto', 'sqrt', 'log2'],\n",
        "                  \"min_samples_split\":randint (2,10),\n",
        "                  \"min_samples_leaf\":randint (1,10),\n",
        "                  \"criterion\": [\"gini\", \"entropy\"]\n",
        "                }"
      ],
      "execution_count": null,
      "outputs": []
    },
    {
      "cell_type": "code",
      "metadata": {
        "id": "YkKqXQ8rX8qX",
        "colab_type": "code",
        "colab": {}
      },
      "source": [
        "# create random forest classifier model\n",
        "rf_model = RandomForestClassifier()\n",
        "\n",
        "# set up random search meta-estimator\n",
        "# this will train 100 models over 5 folds of cross validation (500 models total)\n",
        "clf = RandomizedSearchCV(rf_model, params_RF_RS, n_iter=100, cv=5, random_state=1)\n",
        "\n",
        "# train the random search meta-estimator to find the best model out of 100 candidates\n",
        "model = clf.fit(X_train, Y_train)\n",
        "\n",
        "# print winning set of hyperparameters\n",
        "from pprint import pprint\n",
        "pprint(model.best_estimator_.get_params())"
      ],
      "execution_count": null,
      "outputs": []
    },
    {
      "cell_type": "markdown",
      "metadata": {
        "id": "0qIi4qbU-aMI",
        "colab_type": "text"
      },
      "source": [
        "Training"
      ]
    },
    {
      "cell_type": "code",
      "metadata": {
        "id": "8aNOG1Wu8tUI",
        "colab_type": "code",
        "colab": {
          "base_uri": "https://localhost:8080/",
          "height": 34
        },
        "outputId": "1f024e42-d6ae-439c-b8d7-dc7c03a92209"
      },
      "source": [
        "yhat = model.predict(X_test)\n",
        "yhat[0:5]"
      ],
      "execution_count": null,
      "outputs": [
        {
          "output_type": "execute_result",
          "data": {
            "text/plain": [
              "array([1, 1, 1, 1, 1])"
            ]
          },
          "metadata": {
            "tags": []
          },
          "execution_count": 61
        }
      ]
    },
    {
      "cell_type": "code",
      "metadata": {
        "id": "Ft0GVrKQ8xgA",
        "colab_type": "code",
        "colab": {
          "base_uri": "https://localhost:8080/",
          "height": 50
        },
        "outputId": "f72c18f7-b262-44da-9756-9550ade7a04a"
      },
      "source": [
        "print(\"Test set Accuracy: \", metrics.accuracy_score(Y_test, yhat))\n",
        "print(\"Test set F1 score: \", f1_score(Y_test,yhat));"
      ],
      "execution_count": null,
      "outputs": [
        {
          "output_type": "stream",
          "text": [
            "Test set Accuracy:  0.9272409778812573\n",
            "Test set F1 score:  0.9611318407960199\n"
          ],
          "name": "stdout"
        }
      ]
    },
    {
      "cell_type": "code",
      "metadata": {
        "id": "SbiCBhIAGI0k",
        "colab_type": "code",
        "colab": {}
      },
      "source": [
        "# fill missing values\n",
        "df_test[numerical_columns] = simple_mean_imputer.fit_transform(df_test[numerical_columns])\n",
        "df_test[mostFrequenceColumn] = simple_frequency_imputer.fit_transform(df_test[mostFrequenceColumn])\n",
        "df_test['dayofweek'] = df_test['drop_time'].dt.dayofweek\n",
        "df_test['weekend'] = df_test['dayofweek'].apply(lambda x: 1 if (x>3)  else 0)\n",
        "# pickup timestamp\n",
        "df_test = df_test.assign(pickup_hour=df_test.pickup_time.dt.hour,\n",
        "               pickup_day=df_test.pickup_time.dt.day,\n",
        "               pickup_month=df_test.pickup_time.dt.month,\n",
        "               pickup_year=df_test.pickup_time.dt.year)\n",
        "# drop timestamp\n",
        "df_test = df_test.assign(drop_hour=df_test.drop_time.dt.hour,\n",
        "               drop_day=df_test.drop_time.dt.day,\n",
        "               drop_month=df_test.drop_time.dt.month,\n",
        "               drop_year=df_test.drop_time.dt.year)\n",
        "\n",
        "df_test['haversine_dist'] = haversine_vectorize(df_test['pick_lon'],df_test['pick_lat'],df_test['drop_lon'],df_test['drop_lat'])\n",
        "df_test['total_waiting_time'] = df_test['meter_waiting'] + df_test['meter_waiting_till_pickup']\n",
        "df_test['mobile_time'] = df_test['duration'] -df_test['meter_waiting']"
      ],
      "execution_count": null,
      "outputs": []
    },
    {
      "cell_type": "code",
      "metadata": {
        "id": "URoH3R3SN73V",
        "colab_type": "code",
        "colab": {}
      },
      "source": [
        "X = df_test[considering_features].values\n",
        "\n",
        "X = StandardScaler().fit(X).transform(X.astype(float))"
      ],
      "execution_count": null,
      "outputs": []
    },
    {
      "cell_type": "code",
      "metadata": {
        "id": "QgZTQPF-83TJ",
        "colab_type": "code",
        "colab": {}
      },
      "source": [
        "yhat_ = model.predict(X)\n",
        "data = {'tripid':df_test['tripid'].values}\n",
        "df_res = pd.DataFrame(data)"
      ],
      "execution_count": null,
      "outputs": []
    },
    {
      "cell_type": "code",
      "metadata": {
        "id": "T_DGtS9mLPN1",
        "colab_type": "code",
        "colab": {
          "base_uri": "https://localhost:8080/",
          "height": 50
        },
        "outputId": "f1848c0f-2632-4f0f-e4bd-40e379e35e9e"
      },
      "source": [
        "print(len(yhat_))\n",
        "print(len(df_res))"
      ],
      "execution_count": null,
      "outputs": [
        {
          "output_type": "stream",
          "text": [
            "8576\n",
            "8576\n"
          ],
          "name": "stdout"
        }
      ]
    },
    {
      "cell_type": "code",
      "metadata": {
        "id": "_G1g6JiGK3SP",
        "colab_type": "code",
        "colab": {
          "base_uri": "https://localhost:8080/",
          "height": 67
        },
        "outputId": "991839f8-9630-4a06-ac78-ff4b4935899c"
      },
      "source": [
        "df_res['prediction'] = yhat_\n",
        "df_res.to_csv('output.csv', index=False)\n",
        "files.download('output.csv')\n",
        "df_res['prediction'].value_counts()"
      ],
      "execution_count": null,
      "outputs": [
        {
          "output_type": "execute_result",
          "data": {
            "text/plain": [
              "1    8388\n",
              "0     188\n",
              "Name: prediction, dtype: int64"
            ]
          },
          "metadata": {
            "tags": []
          },
          "execution_count": 67
        }
      ]
    }
  ]
}